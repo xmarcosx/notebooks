{
 "cells": [
  {
   "cell_type": "code",
   "execution_count": null,
   "metadata": {},
   "outputs": [],
   "source": [
    "import os\n",
    "import requests\n",
    "import numpy as np\n",
    "import pandas as pd"
   ]
  },
  {
   "cell_type": "code",
   "execution_count": null,
   "metadata": {},
   "outputs": [],
   "source": [
    "canvas_base_url = os.getenv('CANVAS_BASE_URL')\n",
    "canvas_access_token = os.getenv('CANVAS_ACCESS_TOKEN')\n",
    "school_year_start_date = os.getenv('SCHOOL_YEAR_START_DATE')\n",
    "\n",
    "results = list()\n",
    "done = False\n",
    "# url = f'{canvas_base_url}/api/v1/courses/XXX/sections?page=1&per_page=100' \\\n",
    "#             + '&include=total_students'\n",
    "# url = f'{canvas_base_url}/api/v1/courses/XXX/sections?page=1&per_page=100&include=total_students'\n",
    "# url = f'{canvas_base_url}/api/v1/accounts/1/terms?page=1&per_page=100'\n",
    "\n",
    "url = f'{canvas_base_url}/api/v1/courses/XXX/assignments/XXX/submissions'\n",
    "\n",
    "# while not done:\n",
    "\n",
    "#     response = requests.get(url, headers={'Authorization' : f'Bearer {canvas_access_token}'})\n",
    "\n",
    "#     if response.status_code != 200:\n",
    "#         raise Exception\n",
    "\n",
    "#     if isinstance(response.json(), list):\n",
    "#         results = results + response.json()\n",
    "\n",
    "#     if 'next' in response.links and response.links['current']['url'] != response.links['next']['url']:\n",
    "#         url = response.links['next']['url']\n",
    "#     elif 'last' in response.links and response.links['current']['url'] != response.links['last']['url']:\n",
    "#         url = response.links['last']['url']\n",
    "#     else:\n",
    "#         done = True"
   ]
  },
  {
   "cell_type": "code",
   "execution_count": null,
   "metadata": {},
   "outputs": [],
   "source": [
    "response = requests.get(url, headers={'Authorization' : f'Bearer {canvas_access_token}'})\n",
    "response.test"
   ]
  },
  {
   "cell_type": "code",
   "execution_count": null,
   "metadata": {},
   "outputs": [],
   "source": [
    "response.status_code"
   ]
  },
  {
   "cell_type": "code",
   "execution_count": null,
   "metadata": {},
   "outputs": [],
   "source": [
    "response.text"
   ]
  },
  {
   "cell_type": "code",
   "execution_count": null,
   "metadata": {},
   "outputs": [],
   "source": [
    "type(response.status_code)"
   ]
  },
  {
   "cell_type": "code",
   "execution_count": null,
   "metadata": {},
   "outputs": [],
   "source": []
  }
 ],
 "metadata": {
  "interpreter": {
   "hash": "949777d72b0d2535278d3dc13498b2535136f6dfe0678499012e853ee9abcab1"
  },
  "kernelspec": {
   "display_name": "Python 3.8.12 64-bit",
   "name": "python3"
  },
  "language_info": {
   "codemirror_mode": {
    "name": "ipython",
    "version": 3
   },
   "file_extension": ".py",
   "mimetype": "text/x-python",
   "name": "python",
   "nbconvert_exporter": "python",
   "pygments_lexer": "ipython3",
   "version": "3.8.12"
  },
  "orig_nbformat": 4
 },
 "nbformat": 4,
 "nbformat_minor": 2
}
