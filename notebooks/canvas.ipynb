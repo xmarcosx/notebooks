{
 "cells": [
  {
   "cell_type": "code",
   "execution_count": null,
   "source": [
    "import os\n",
    "import requests\n",
    "import numpy as np\n",
    "import pandas as pd"
   ],
   "outputs": [],
   "metadata": {}
  },
  {
   "cell_type": "code",
   "execution_count": null,
   "source": [
    "canvas_base_url = os.getenv('CANVAS_BASE_URL')\n",
    "canvas_access_token = os.getenv('CANVAS_ACCESS_TOKEN')\n",
    "\n",
    "terms = list()\n",
    "done = False\n",
    "per_page = 100\n",
    "url = f'{canvas_base_url}/api/v1/accounts/1/terms?page=1&per_page={per_page}'\n",
    "\n",
    "while not done:\n",
    "\n",
    "    # response = fetch_data(url, canvas_access_token)\n",
    "\n",
    "    response = requests.get(url, headers={'Authorization' : f'Bearer {canvas_access_token}'})\n",
    "\n",
    "    if response.status_code != 200:\n",
    "        raise Exception\n",
    "\n",
    "    if isinstance(response.json(), dict):\n",
    "        enrollment_terms = response.json()['enrollment_terms']\n",
    "        terms = terms + enrollment_terms\n",
    "\n",
    "    if 'next' in response.links and response.links['current']['url'] != response.links['next']['url']:\n",
    "        url = response.links['next']['url']\n",
    "    elif 'last' in response.links and response.links['current']['url'] != response.links['last']['url']:\n",
    "        url = response.links['last']['url']\n",
    "    else:\n",
    "        done = True"
   ],
   "outputs": [],
   "metadata": {}
  },
  {
   "cell_type": "code",
   "execution_count": null,
   "source": [
    "df=pd.DataFrame(terms)\n",
    "df.dtypes"
   ],
   "outputs": [],
   "metadata": {}
  },
  {
   "cell_type": "code",
   "execution_count": null,
   "source": [
    "df['start_at'] = pd.to_datetime(df['start_at']) #.dt.strftime('%Y-%m-%d')\n",
    "\n",
    "df.dtypes"
   ],
   "outputs": [],
   "metadata": {}
  },
  {
   "cell_type": "code",
   "execution_count": null,
   "source": [],
   "outputs": [],
   "metadata": {}
  }
 ],
 "metadata": {
  "orig_nbformat": 4,
  "language_info": {
   "name": "python",
   "version": "3.8.12",
   "mimetype": "text/x-python",
   "codemirror_mode": {
    "name": "ipython",
    "version": 3
   },
   "pygments_lexer": "ipython3",
   "nbconvert_exporter": "python",
   "file_extension": ".py"
  },
  "kernelspec": {
   "name": "python3",
   "display_name": "Python 3.8.12 64-bit"
  },
  "interpreter": {
   "hash": "4cd7ab41f5fca4b9b44701077e38c5ffd31fe66a6cab21e0214b68d958d0e462"
  }
 },
 "nbformat": 4,
 "nbformat_minor": 2
}