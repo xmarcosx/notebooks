{
 "cells": [
  {
   "cell_type": "markdown",
   "metadata": {},
   "source": [
    "## Google Forms ETL\n",
    "\n",
    "```bash\n",
    "\n",
    "gcloud services enable forms.googleapis.com;\n",
    "\n",
    "```\n",
    "\n",
    "* Create an API key under https://console.cloud.google.com/apis/credentials\n",
    "* In the Google Workspace Admin console > Security > API Credentials > Manage Domain Wide Delegation\n",
    "    * Click *Add new* and grant the service account ID access to the scope below\n"
   ]
  },
  {
   "cell_type": "code",
   "execution_count": null,
   "metadata": {},
   "outputs": [],
   "source": [
    "import os\n",
    "\n",
    "import google.auth\n",
    "from googleapiclient import discovery\n",
    "\n",
    "\n",
    "FORMS_API_KEY = os.environ.get(\"FORMS_API_KEY\")\n",
    "SCOPES = [\n",
    "    \"https://www.googleapis.com/auth/forms.body.readonly\",\n",
    "    \"https://www.googleapis.com/auth/forms.responses.readonly\"\n",
    "]\n",
    "email=input(\"Enter the email the script should impersonate to access the Form.\")\n",
    "form_id=input(\"Google Forms ID\")"
   ]
  },
  {
   "cell_type": "code",
   "execution_count": null,
   "metadata": {},
   "outputs": [],
   "source": [
    "credentials, _ = google.auth.default()\n",
    "creds = credentials.with_subject(email).with_scopes(SCOPES)\n",
    "service = discovery.build(\n",
    "    serviceName='forms',\n",
    "    version='v1beta',\n",
    "    credentials=creds,\n",
    "    discoveryServiceUrl=f'https://forms.googleapis.com/$discovery/rest?version=v1beta&key={FORMS_API_KEY}&labels=FORMS_BETA_TESTERS',\n",
    "    num_retries=3\n",
    ")\n",
    "\n",
    "result = service.forms().get(formId=form_id).execute()\n",
    "result\n",
    "\n",
    "\n"
   ]
  },
  {
   "cell_type": "code",
   "execution_count": null,
   "metadata": {},
   "outputs": [],
   "source": [
    "request = service.forms().responses().list(formId=form_id, pageToken=None)\n",
    "response = request.execute()\n",
    "\n",
    "response"
   ]
  },
  {
   "cell_type": "code",
   "execution_count": null,
   "metadata": {},
   "outputs": [],
   "source": [
    "service.forms().responses().list_next(request, response).execute()"
   ]
  },
  {
   "cell_type": "code",
   "execution_count": null,
   "metadata": {},
   "outputs": [],
   "source": []
  }
 ],
 "metadata": {
  "interpreter": {
   "hash": "949777d72b0d2535278d3dc13498b2535136f6dfe0678499012e853ee9abcab1"
  },
  "kernelspec": {
   "display_name": "Python 3.8.12 64-bit",
   "name": "python3"
  },
  "language_info": {
   "codemirror_mode": {
    "name": "ipython",
    "version": 3
   },
   "file_extension": ".py",
   "mimetype": "text/x-python",
   "name": "python",
   "nbconvert_exporter": "python",
   "pygments_lexer": "ipython3",
   "version": "3.8.12"
  },
  "orig_nbformat": 4
 },
 "nbformat": 4,
 "nbformat_minor": 2
}
