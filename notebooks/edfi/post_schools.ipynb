{
 "cells": [
  {
   "cell_type": "code",
   "execution_count": null,
   "metadata": {},
   "outputs": [],
   "source": [
    "\n",
    "import base64\n",
    "import json\n",
    "import os\n",
    "import requests\n",
    "\n",
    "\n",
    "BASE_URL = os.environ.get('EDFI_BASE_URL')\n",
    "API_KEY = os.environ.get('EDFI_API_KEY')\n",
    "API_SECRET = os.environ.get('EDFI_API_SECRET')"
   ]
  },
  {
   "cell_type": "code",
   "execution_count": null,
   "metadata": {},
   "outputs": [],
   "source": [
    "credentials_concatenated = ':'.join((API_KEY, API_SECRET))\n",
    "credentials_encoded = base64.b64encode(credentials_concatenated.encode('utf-8'))\n",
    "access_url = f'{BASE_URL}/oauth/token'\n",
    "\n",
    "access_headers = {\n",
    "    'Authorization': b'Basic ' + credentials_encoded\n",
    "}\n",
    "\n",
    "access_params = {\n",
    "    'grant_type': 'client_credentials'\n",
    "}\n",
    "\n",
    "response = requests.post(access_url, headers=access_headers, data=access_params)\n",
    "\n",
    "if response.ok:\n",
    "    response_json = response.json()\n",
    "    access_token = response_json['access_token']\n",
    "    print(access_token)\n",
    "else:\n",
    "    raise Exception(\"Failed to retrieve access token\")\n"
   ]
  },
  {
   "cell_type": "code",
   "execution_count": null,
   "metadata": {},
   "outputs": [],
   "source": [
    "# endpoint = f'{BASE_URL}/data/v3/2021/ed-fi/schools?offset=0&limit=100&totalCount=true'\n",
    "# headers = {'Authorization': f'Bearer {access_token}'}\n",
    "# get_schools = requests.get(endpoint, headers=headers)\n",
    "\n",
    "# get_schools.ok"
   ]
  },
  {
   "cell_type": "code",
   "execution_count": null,
   "metadata": {},
   "outputs": [],
   "source": [
    "endpoint = f'{BASE_URL}/data/v3/2022/ed-fi/studentAssessments'\n",
    "headers = {\n",
    "    'Accept': 'application/json',\n",
    "    'Authorization': f'Bearer {access_token}'\n",
    "}\n",
    "post_response = requests.post(endpoint, headers=headers, json=data)\n",
    "\n",
    "post_response.ok\n"
   ]
  },
  {
   "cell_type": "code",
   "execution_count": null,
   "metadata": {},
   "outputs": [],
   "source": [
    "post_response.content"
   ]
  },
  {
   "cell_type": "code",
   "execution_count": null,
   "metadata": {},
   "outputs": [],
   "source": []
  }
 ],
 "metadata": {
  "interpreter": {
   "hash": "4cd7ab41f5fca4b9b44701077e38c5ffd31fe66a6cab21e0214b68d958d0e462"
  },
  "kernelspec": {
   "display_name": "Python 3 (ipykernel)",
   "language": "python",
   "name": "python3"
  },
  "language_info": {
   "codemirror_mode": {
    "name": "ipython",
    "version": 3
   },
   "file_extension": ".py",
   "mimetype": "text/x-python",
   "name": "python",
   "nbconvert_exporter": "python",
   "pygments_lexer": "ipython3",
   "version": "3.8.12"
  },
  "orig_nbformat": 4
 },
 "nbformat": 4,
 "nbformat_minor": 2
}
