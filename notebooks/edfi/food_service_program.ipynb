{
 "cells": [
  {
   "cell_type": "code",
   "execution_count": null,
   "metadata": {},
   "outputs": [],
   "source": [
    "\n",
    "import base64\n",
    "import json\n",
    "import os\n",
    "import requests\n",
    "\n",
    "\n",
    "BASE_URL = os.environ.get('BASE_URL')\n",
    "API_KEY = os.environ.get('API_KEY')\n",
    "API_SECRET = os.environ.get('API_SECRET')"
   ]
  },
  {
   "cell_type": "code",
   "execution_count": null,
   "metadata": {},
   "outputs": [],
   "source": [
    "credentials_concatenated = ':'.join((API_KEY, API_SECRET))\n",
    "credentials_encoded = base64.b64encode(credentials_concatenated.encode('utf-8'))\n",
    "access_url = f'{BASE_URL}/oauth/token'\n",
    "\n",
    "access_headers = {\n",
    "    'Authorization': b'Basic ' + credentials_encoded\n",
    "}\n",
    "\n",
    "access_params = {\n",
    "    'grant_type': 'client_credentials'\n",
    "}\n",
    "\n",
    "response = requests.post(access_url, headers=access_headers, data=access_params)\n",
    "\n",
    "if response.ok:\n",
    "    response_json = response.json()\n",
    "    access_token = response_json['access_token']\n",
    "    print(access_token)\n",
    "else:\n",
    "    raise Exception(\"Failed to retrieve access token\")\n"
   ]
  },
  {
   "cell_type": "code",
   "execution_count": null,
   "metadata": {},
   "outputs": [],
   "source": [
    "# GET schools\n",
    "endpoint = f'{BASE_URL}/data/v3/2021/ed-fi/schools?offset=0&limit=100&totalCount=true'\n",
    "headers = {'Authorization': f'Bearer {access_token}'}\n",
    "get_schools = requests.get(endpoint, headers=headers)\n",
    "\n",
    "get_schools.ok"
   ]
  },
  {
   "cell_type": "code",
   "execution_count": null,
   "metadata": {},
   "outputs": [],
   "source": [
    "# POST a school\n",
    "endpoint = f'{BASE_URL}/data/v3/2021/ed-fi/schools'\n",
    "headers = {\n",
    "    'Accept': 'application/json',\n",
    "    'Authorization': f'Bearer {access_token}'\n",
    "}\n",
    "post_schools = requests.post(endpoint, headers=headers, json={\n",
    "    \"educationOrganizationCategories\": [\n",
    "        {\"educationOrganizationCategoryDescriptor\": \"uri://ed-fi.org/EducationOrganizationCategoryDescriptor#School\"}\n",
    "    ],\n",
    "    \"gradeLevels\": [\n",
    "        {\"gradeLevelDescriptor\": \"uri://ed-fi.org/GradeLevelDescriptor#Seventh grade\"},\n",
    "        {\"gradeLevelDescriptor\": \"uri://ed-fi.org/GradeLevelDescriptor#Eighth grade\"}\n",
    "    ],\n",
    "    \"schoolId\": \"\",\n",
    "    \"localEducationAgencyReference\": {\n",
    "        \"localEducationAgencyId\": \"\"\n",
    "    },\n",
    "    \"nameOfInstitution\": \"\"\n",
    "})\n",
    "\n",
    "post_schools.ok\n"
   ]
  },
  {
   "cell_type": "code",
   "execution_count": null,
   "metadata": {},
   "outputs": [],
   "source": [
    "post_schools.json()"
   ]
  },
  {
   "cell_type": "code",
   "execution_count": null,
   "metadata": {},
   "outputs": [],
   "source": [
    "# POST a studentSchoolFoodServiceProgramAssociation \n",
    "endpoint = f'{BASE_URL}/data/v3/2021/ed-fi/studentSchoolFoodServiceProgramAssociations'\n",
    "headers = {\n",
    "    'Accept': 'application/json',\n",
    "    'Authorization': f'Bearer {access_token}'\n",
    "}\n",
    "post_student_food_service = requests.post(endpoint, headers=headers, json={\n",
    "    \"beginDate\": \"2010-09-02\",\n",
    "    \"educationOrganizationReference\": {\n",
    "        \"educationOrganizationId\": \"255901\"\n",
    "    },\n",
    "    \"programReference\": {\n",
    "        \"educationOrganizationId\": \"255901\",\n",
    "        \"programName\": \"School Food Service\",\n",
    "        \"programTypeDescriptor\": \"uri://ed-fi.org/ProgramTypeDescriptor#Compensatory Services for Disadvantaged Students\",\n",
    "    },\n",
    "    \"studentReference\": { \"studentUniqueId\": \"604909\" }, # 89 usi\n",
    "})\n",
    "\n",
    "post_student_food_service.status_code\n"
   ]
  },
  {
   "cell_type": "code",
   "execution_count": null,
   "metadata": {},
   "outputs": [],
   "source": []
  }
 ],
 "metadata": {
  "interpreter": {
   "hash": "949777d72b0d2535278d3dc13498b2535136f6dfe0678499012e853ee9abcab1"
  },
  "kernelspec": {
   "display_name": "Python 3.8.12 64-bit",
   "name": "python3"
  },
  "language_info": {
   "codemirror_mode": {
    "name": "ipython",
    "version": 3
   },
   "file_extension": ".py",
   "mimetype": "text/x-python",
   "name": "python",
   "nbconvert_exporter": "python",
   "pygments_lexer": "ipython3",
   "version": "3.8.12"
  },
  "orig_nbformat": 4
 },
 "nbformat": 4,
 "nbformat_minor": 2
}
