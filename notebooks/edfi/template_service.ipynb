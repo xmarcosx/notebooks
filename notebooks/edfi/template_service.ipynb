{
 "cells": [
  {
   "cell_type": "code",
   "execution_count": null,
   "source": [
    "import base64\n",
    "import os\n",
    "import requests\n",
    "\n",
    "edfi_key = os.getenv('EDFI_KEY')\n",
    "edfi_secret = os.getenv('EDFI_SECRET')"
   ],
   "outputs": [],
   "metadata": {}
  },
  {
   "cell_type": "code",
   "execution_count": null,
   "source": [
    "credentials_concatenated = ':'.join((edfi_key, edfi_secret))\n",
    "credentials_encoded = base64.b64encode(credentials_concatenated.encode('utf-8'))\n",
    "access_url = f'https://template-sharing.ed-fi.org/identity/connect/token'\n",
    "\n",
    "access_headers = {\n",
    "    'Authorization': b'Basic ' + credentials_encoded\n",
    "}\n",
    "\n",
    "access_params = {\n",
    "    'grant_type': 'client_credentials'\n",
    "}\n",
    "\n",
    "response = requests.post(access_url, headers=access_headers, data=access_params)\n",
    "\n",
    "if response.ok:\n",
    "    response_json = response.json()\n",
    "    access_token = response_json['access_token']\n",
    "    print(access_token)\n",
    "else:\n",
    "    raise Exception(\"Failed to retrieve access token\")"
   ],
   "outputs": [],
   "metadata": {}
  },
  {
   "cell_type": "code",
   "execution_count": null,
   "source": [],
   "outputs": [],
   "metadata": {}
  }
 ],
 "metadata": {
  "orig_nbformat": 4,
  "language_info": {
   "name": "python",
   "version": "3.8.12",
   "mimetype": "text/x-python",
   "codemirror_mode": {
    "name": "ipython",
    "version": 3
   },
   "pygments_lexer": "ipython3",
   "nbconvert_exporter": "python",
   "file_extension": ".py"
  },
  "kernelspec": {
   "name": "python3",
   "display_name": "Python 3.8.12 64-bit"
  },
  "interpreter": {
   "hash": "4cd7ab41f5fca4b9b44701077e38c5ffd31fe66a6cab21e0214b68d958d0e462"
  }
 },
 "nbformat": 4,
 "nbformat_minor": 2
}