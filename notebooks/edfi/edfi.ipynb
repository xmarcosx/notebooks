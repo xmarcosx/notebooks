{
 "cells": [
  {
   "cell_type": "code",
   "execution_count": null,
   "source": [
    "\n",
    "import base64\n",
    "import json\n",
    "import os\n",
    "import requests\n",
    "\n",
    "\n",
    "BASE_URL = os.environ.get('BASE_URL')\n",
    "API_KEY = os.environ.get('API_KEY')\n",
    "API_SECRET = os.environ.get('API_SECRET')"
   ],
   "outputs": [],
   "metadata": {}
  },
  {
   "cell_type": "code",
   "execution_count": null,
   "source": [
    "credentials_concatenated = ':'.join((API_KEY, API_SECRET))\n",
    "credentials_encoded = base64.b64encode(credentials_concatenated.encode('utf-8'))\n",
    "access_url = f'{BASE_URL}/oauth/token'\n",
    "\n",
    "access_headers = {\n",
    "    'Authorization': b'Basic ' + credentials_encoded\n",
    "}\n",
    "\n",
    "access_params = {\n",
    "    'grant_type': 'client_credentials'\n",
    "}\n",
    "\n",
    "response = requests.post(access_url, headers=access_headers, data=access_params)\n",
    "\n",
    "if response.ok:\n",
    "    response_json = response.json()\n",
    "    print(response_json['access_token'])\n",
    "else:\n",
    "    raise Exception(\"Failed to retrieve access token\")\n"
   ],
   "outputs": [],
   "metadata": {}
  },
  {
   "cell_type": "code",
   "execution_count": null,
   "source": [
    "with open('nwea.json') as json_file:\n",
    "    data = json.load(json_file)\n",
    "\n",
    "\n",
    "data['Bootstraps']"
   ],
   "outputs": [],
   "metadata": {}
  },
  {
   "cell_type": "code",
   "execution_count": null,
   "source": [],
   "outputs": [],
   "metadata": {}
  }
 ],
 "metadata": {
  "orig_nbformat": 4,
  "kernelspec": {
   "name": "python3",
   "display_name": "Python 3 (ipykernel)",
   "language": "python"
  },
  "interpreter": {
   "hash": "4cd7ab41f5fca4b9b44701077e38c5ffd31fe66a6cab21e0214b68d958d0e462"
  },
  "language_info": {
   "name": "python",
   "version": "3.8.12",
   "mimetype": "text/x-python",
   "codemirror_mode": {
    "name": "ipython",
    "version": 3
   },
   "pygments_lexer": "ipython3",
   "nbconvert_exporter": "python",
   "file_extension": ".py"
  }
 },
 "nbformat": 4,
 "nbformat_minor": 2
}